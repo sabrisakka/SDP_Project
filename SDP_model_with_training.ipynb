{
 "cells": [
  {
   "cell_type": "markdown",
   "metadata": {
    "id": "0ICxnyLZcm_j"
   },
   "source": [
    "# Checking the GPU."
   ]
  },
  {
   "cell_type": "code",
   "execution_count": 31,
   "metadata": {
    "colab": {
     "base_uri": "https://localhost:8080/"
    },
    "id": "Bed1Q9GKTpKk",
    "outputId": "7adcf411-6c42-4ec7-a65a-2370fe340b50"
   },
   "outputs": [
    {
     "name": "stdout",
     "output_type": "stream",
     "text": [
      "[]\n"
     ]
    }
   ],
   "source": [
    "import tensorflow as tf \n",
    "# Checking GPU access\n",
    "print(tf.config.list_physical_devices('GPU'))"
   ]
  },
  {
   "cell_type": "code",
   "execution_count": null,
   "metadata": {
    "id": "ADm4ZC44cTN6"
   },
   "outputs": [],
   "source": [
    "# Importing necessary libraries\n",
    "import tensorflow as tf\n",
    "from tensorflow.keras.preprocessing.text import Tokenizer\n",
    "from tensorflow.keras.preprocessing.sequence import pad_sequences\n",
    "from sklearn.model_selection import train_test_split\n",
    "import pandas as pd\n",
    "import unicodedata\n",
    "import re\n",
    "import numpy as np\n",
    "import pandas as pd\n",
    "import os\n",
    "import io\n",
    "import time\n",
    "import pickle"
   ]
  },
  {
   "cell_type": "code",
   "execution_count": null,
   "metadata": {},
   "outputs": [],
   "source": [
    "# Reading the firts data\n",
    "df = pd.read_csv(\"C:/Users/99451/Desktop/sdp_sentences/dataset.csv\")\n",
    "df = df[[\"original\", '                              correct']]"
   ]
  },
  {
   "cell_type": "code",
   "execution_count": 3,
   "metadata": {},
   "outputs": [],
   "source": [
    "df.columns = [\"original\", \"corect\"]"
   ]
  },
  {
   "cell_type": "code",
   "execution_count": 4,
   "metadata": {},
   "outputs": [
    {
     "data": {
      "text/html": [
       "<div>\n",
       "<style scoped>\n",
       "    .dataframe tbody tr th:only-of-type {\n",
       "        vertical-align: middle;\n",
       "    }\n",
       "\n",
       "    .dataframe tbody tr th {\n",
       "        vertical-align: top;\n",
       "    }\n",
       "\n",
       "    .dataframe thead th {\n",
       "        text-align: right;\n",
       "    }\n",
       "</style>\n",
       "<table border=\"1\" class=\"dataframe\">\n",
       "  <thead>\n",
       "    <tr style=\"text-align: right;\">\n",
       "      <th></th>\n",
       "      <th>original</th>\n",
       "      <th>corect</th>\n",
       "    </tr>\n",
       "  </thead>\n",
       "  <tbody>\n",
       "    <tr>\n",
       "      <th>0</th>\n",
       "      <td>NaN</td>\n",
       "      <td>NaN</td>\n",
       "    </tr>\n",
       "    <tr>\n",
       "      <th>1</th>\n",
       "      <td>salam.  mən plastik kartı  necə  onlayn  sifar...</td>\n",
       "      <td>Salam, mən plastik kartı  necə  onlayn  sifari...</td>\n",
       "    </tr>\n",
       "    <tr>\n",
       "      <th>2</th>\n",
       "      <td>niye</td>\n",
       "      <td>niyə</td>\n",
       "    </tr>\n",
       "    <tr>\n",
       "      <th>3</th>\n",
       "      <td>türkiyənin bank kartina</td>\n",
       "      <td>Türkiyənin bank kartına</td>\n",
       "    </tr>\n",
       "    <tr>\n",
       "      <th>4</th>\n",
       "      <td>mene cek cixardir ki blok olunub kartiniz</td>\n",
       "      <td>Mənə çek çıxardır ki, blok olub kartınız .</td>\n",
       "    </tr>\n",
       "  </tbody>\n",
       "</table>\n",
       "</div>"
      ],
      "text/plain": [
       "                                            original  \\\n",
       "0                                                NaN   \n",
       "1  salam.  mən plastik kartı  necə  onlayn  sifar...   \n",
       "2                                               niye   \n",
       "3                            türkiyənin bank kartina   \n",
       "4          mene cek cixardir ki blok olunub kartiniz   \n",
       "\n",
       "                                              corect  \n",
       "0                                                NaN  \n",
       "1  Salam, mən plastik kartı  necə  onlayn  sifari...  \n",
       "2                                               niyə  \n",
       "3                            Türkiyənin bank kartına  \n",
       "4         Mənə çek çıxardır ki, blok olub kartınız .  "
      ]
     },
     "execution_count": 4,
     "metadata": {},
     "output_type": "execute_result"
    }
   ],
   "source": [
    "df.head()"
   ]
  },
  {
   "cell_type": "code",
   "execution_count": 5,
   "metadata": {},
   "outputs": [
    {
     "data": {
      "text/plain": [
       "original     spasibo\n",
       "corect      sağ olun\n",
       "Name: 1046, dtype: object"
      ]
     },
     "execution_count": 5,
     "metadata": {},
     "output_type": "execute_result"
    }
   ],
   "source": [
    "# The mistake of labeling\n",
    "df.iloc[1046,:]"
   ]
  },
  {
   "cell_type": "code",
   "execution_count": 6,
   "metadata": {},
   "outputs": [],
   "source": [
    "df.drop(1046, axis=0, inplace=True)"
   ]
  },
  {
   "cell_type": "code",
   "execution_count": 7,
   "metadata": {},
   "outputs": [
    {
     "data": {
      "text/plain": [
       "original     2017de bitib kartin vaxti\n",
       "corect      2017-də bitib kartın vaxtı\n",
       "Name: 1047, dtype: object"
      ]
     },
     "execution_count": 7,
     "metadata": {},
     "output_type": "execute_result"
    }
   ],
   "source": [
    "# We have deleted it \n",
    "df.iloc[1046,:]"
   ]
  },
  {
   "cell_type": "code",
   "execution_count": 8,
   "metadata": {},
   "outputs": [
    {
     "data": {
      "text/plain": [
       "(72311, 2)"
      ]
     },
     "execution_count": 8,
     "metadata": {},
     "output_type": "execute_result"
    }
   ],
   "source": [
    "df.shape"
   ]
  },
  {
   "cell_type": "code",
   "execution_count": 9,
   "metadata": {},
   "outputs": [
    {
     "data": {
      "text/plain": [
       "original     3\n",
       "corect      40\n",
       "dtype: int64"
      ]
     },
     "execution_count": 9,
     "metadata": {},
     "output_type": "execute_result"
    }
   ],
   "source": [
    "df.isna().sum() # We have 3 Na in \"original\" column and 40 Na in \"correct\" column. "
   ]
  },
  {
   "cell_type": "code",
   "execution_count": 10,
   "metadata": {},
   "outputs": [
    {
     "data": {
      "text/html": [
       "<div>\n",
       "<style scoped>\n",
       "    .dataframe tbody tr th:only-of-type {\n",
       "        vertical-align: middle;\n",
       "    }\n",
       "\n",
       "    .dataframe tbody tr th {\n",
       "        vertical-align: top;\n",
       "    }\n",
       "\n",
       "    .dataframe thead th {\n",
       "        text-align: right;\n",
       "    }\n",
       "</style>\n",
       "<table border=\"1\" class=\"dataframe\">\n",
       "  <thead>\n",
       "    <tr style=\"text-align: right;\">\n",
       "      <th></th>\n",
       "      <th>original</th>\n",
       "      <th>corect</th>\n",
       "    </tr>\n",
       "  </thead>\n",
       "  <tbody>\n",
       "    <tr>\n",
       "      <th>0</th>\n",
       "      <td>NaN</td>\n",
       "      <td>NaN</td>\n",
       "    </tr>\n",
       "    <tr>\n",
       "      <th>14959</th>\n",
       "      <td>işlemler olsun banka karti götürmeye gelerem</td>\n",
       "      <td>NaN</td>\n",
       "    </tr>\n",
       "    <tr>\n",
       "      <th>14966</th>\n",
       "      <td>salam hormetli emekdas 190 kanatla baqli yazir...</td>\n",
       "      <td>NaN</td>\n",
       "    </tr>\n",
       "    <tr>\n",
       "      <th>15102</th>\n",
       "      <td>men faizleri evvel alacam deposizde?</td>\n",
       "      <td>NaN</td>\n",
       "    </tr>\n",
       "    <tr>\n",
       "      <th>15465</th>\n",
       "      <td>birde zehmet olmasa nece odenis edimki goturul...</td>\n",
       "      <td>NaN</td>\n",
       "    </tr>\n",
       "    <tr>\n",
       "      <th>56574</th>\n",
       "      <td>Deyir neceb shuba almirsan?😂Mene haa ozde😂 Hey...</td>\n",
       "      <td>NaN</td>\n",
       "    </tr>\n",
       "    <tr>\n",
       "      <th>58770</th>\n",
       "      <td>1 ayın söhbətidi,yoldaşım axşam işdən evə qayı...</td>\n",
       "      <td>NaN</td>\n",
       "    </tr>\n",
       "    <tr>\n",
       "      <th>58796</th>\n",
       "      <td>Gedib yapışıb adamdan saqqız kimi,sonra da dey...</td>\n",
       "      <td>NaN</td>\n",
       "    </tr>\n",
       "    <tr>\n",
       "      <th>58876</th>\n",
       "      <td>Mən də yuxuda görürəm ki min əziyyətlə Azərbay...</td>\n",
       "      <td>NaN</td>\n",
       "    </tr>\n",
       "    <tr>\n",
       "      <th>58902</th>\n",
       "      <td>bu gün Azərbaycanın son illərdə qazandığı böyü...</td>\n",
       "      <td>NaN</td>\n",
       "    </tr>\n",
       "    <tr>\n",
       "      <th>58907</th>\n",
       "      <td>Ulu Öndər Heydər Əliyev məktəbinin layiqli dav...</td>\n",
       "      <td>NaN</td>\n",
       "    </tr>\n",
       "    <tr>\n",
       "      <th>58909</th>\n",
       "      <td>Eləcə də Qarabağda aparılan genişmiqyaslı bərp...</td>\n",
       "      <td>NaN</td>\n",
       "    </tr>\n",
       "    <tr>\n",
       "      <th>58912</th>\n",
       "      <td>Ulu Öndər Heydər Əliyev məktəbinin layiqli dav...</td>\n",
       "      <td>NaN</td>\n",
       "    </tr>\n",
       "    <tr>\n",
       "      <th>58913</th>\n",
       "      <td>Noyabrın 3-dən 4-nə keçən gecə Ermənistan sila...</td>\n",
       "      <td>NaN</td>\n",
       "    </tr>\n",
       "    <tr>\n",
       "      <th>58946</th>\n",
       "      <td>Öz ana dilində danışa bilmir deyənlərə lağ edə...</td>\n",
       "      <td>NaN</td>\n",
       "    </tr>\n",
       "    <tr>\n",
       "      <th>58984</th>\n",
       "      <td>Sadece oz fikirimi deyimki playofa cixib cempi...</td>\n",
       "      <td>NaN</td>\n",
       "    </tr>\n",
       "    <tr>\n",
       "      <th>59101</th>\n",
       "      <td>Deməli mənim bir baş ustam var!!! Mən işləyən ...</td>\n",
       "      <td>NaN</td>\n",
       "    </tr>\n",
       "    <tr>\n",
       "      <th>59254</th>\n",
       "      <td>Mən bu mənfi xüsusiyyətlərin bəzilərinin səbəb...</td>\n",
       "      <td>NaN</td>\n",
       "    </tr>\n",
       "    <tr>\n",
       "      <th>59336</th>\n",
       "      <td>Çox mühüm məsələyə toxunmusuniz! Sizə ancaq uğ...</td>\n",
       "      <td>NaN</td>\n",
       "    </tr>\n",
       "    <tr>\n",
       "      <th>59337</th>\n",
       "      <td>Bu sevgını usaglara asılaja bılse cemıjjet ölk...</td>\n",
       "      <td>NaN</td>\n",
       "    </tr>\n",
       "    <tr>\n",
       "      <th>59338</th>\n",
       "      <td>Bu mövzunu rus kallarında tez tez rast gəlirik...</td>\n",
       "      <td>NaN</td>\n",
       "    </tr>\n",
       "    <tr>\n",
       "      <th>59368</th>\n",
       "      <td>ucuzluguna aldanib aldginiz mehsullarin terkib...</td>\n",
       "      <td>NaN</td>\n",
       "    </tr>\n",
       "    <tr>\n",
       "      <th>59403</th>\n",
       "      <td>Men basa dusmedim niye gelirler muqasyise edil...</td>\n",
       "      <td>NaN</td>\n",
       "    </tr>\n",
       "    <tr>\n",
       "      <th>59449</th>\n",
       "      <td>Xırdalan ayrıca şəhərdi ora 3 ədəd sizə tabeli...</td>\n",
       "      <td>NaN</td>\n",
       "    </tr>\n",
       "    <tr>\n",
       "      <th>59452</th>\n",
       "      <td>Birdene bu dayvolar ancaq dayncaqda saxliya bi...</td>\n",
       "      <td>NaN</td>\n",
       "    </tr>\n",
       "    <tr>\n",
       "      <th>59453</th>\n",
       "      <td>ümumi əhalinin cəmi 20 faizə qədəri şəxsi avto...</td>\n",
       "      <td>NaN</td>\n",
       "    </tr>\n",
       "    <tr>\n",
       "      <th>59472</th>\n",
       "      <td>Zolaqların əhəmiyyəti çox böyekdü əlbətdə amma...</td>\n",
       "      <td>NaN</td>\n",
       "    </tr>\n",
       "    <tr>\n",
       "      <th>59482</th>\n",
       "      <td>Siz demek istyrsiz 80 nefer bir birinin ustune...</td>\n",
       "      <td>NaN</td>\n",
       "    </tr>\n",
       "    <tr>\n",
       "      <th>59798</th>\n",
       "      <td>NaN</td>\n",
       "      <td>NaN</td>\n",
       "    </tr>\n",
       "    <tr>\n",
       "      <th>67842</th>\n",
       "      <td>Necə ki, kitablarda önəmli cümlələr olur , biz...</td>\n",
       "      <td>NaN</td>\n",
       "    </tr>\n",
       "    <tr>\n",
       "      <th>67886</th>\n",
       "      <td>Qəribə insanam, repdən gedirəm dediyim günün s...</td>\n",
       "      <td>NaN</td>\n",
       "    </tr>\n",
       "    <tr>\n",
       "      <th>67897</th>\n",
       "      <td>Sonuncu dinləyicin ölənə qədər bizimlə qal, Or...</td>\n",
       "      <td>NaN</td>\n",
       "    </tr>\n",
       "    <tr>\n",
       "      <th>68300</th>\n",
       "      <td>2022 butonuyam</td>\n",
       "      <td>NaN</td>\n",
       "    </tr>\n",
       "    <tr>\n",
       "      <th>69236</th>\n",
       "      <td>Tam 17 yawimda girdin heyatima hansiki tehsil ...</td>\n",
       "      <td>NaN</td>\n",
       "    </tr>\n",
       "    <tr>\n",
       "      <th>69250</th>\n",
       "      <td>Sən onun kürəyini, Mənimsə ürəyimi cırmaqladın...</td>\n",
       "      <td>NaN</td>\n",
       "    </tr>\n",
       "    <tr>\n",
       "      <th>69725</th>\n",
       "      <td>NaN</td>\n",
       "      <td>NaN</td>\n",
       "    </tr>\n",
       "    <tr>\n",
       "      <th>71457</th>\n",
       "      <td>yazılı tapşırıqlar öldürübdü da məni, bəyaq ba...</td>\n",
       "      <td>NaN</td>\n",
       "    </tr>\n",
       "    <tr>\n",
       "      <th>71480</th>\n",
       "      <td>üç gəloxçu- novruz, ramiz, özgür şahsuvarlılar</td>\n",
       "      <td>NaN</td>\n",
       "    </tr>\n",
       "    <tr>\n",
       "      <th>71567</th>\n",
       "      <td>sənik mənik pirənnik :d</td>\n",
       "      <td>NaN</td>\n",
       "    </tr>\n",
       "    <tr>\n",
       "      <th>71654</th>\n",
       "      <td>Bütün Növ Meyvə ağaclarının və dekorativ aqac ...</td>\n",
       "      <td>NaN</td>\n",
       "    </tr>\n",
       "  </tbody>\n",
       "</table>\n",
       "</div>"
      ],
      "text/plain": [
       "                                                original corect\n",
       "0                                                    NaN    NaN\n",
       "14959       işlemler olsun banka karti götürmeye gelerem    NaN\n",
       "14966  salam hormetli emekdas 190 kanatla baqli yazir...    NaN\n",
       "15102               men faizleri evvel alacam deposizde?    NaN\n",
       "15465  birde zehmet olmasa nece odenis edimki goturul...    NaN\n",
       "56574  Deyir neceb shuba almirsan?😂Mene haa ozde😂 Hey...    NaN\n",
       "58770  1 ayın söhbətidi,yoldaşım axşam işdən evə qayı...    NaN\n",
       "58796  Gedib yapışıb adamdan saqqız kimi,sonra da dey...    NaN\n",
       "58876  Mən də yuxuda görürəm ki min əziyyətlə Azərbay...    NaN\n",
       "58902  bu gün Azərbaycanın son illərdə qazandığı böyü...    NaN\n",
       "58907  Ulu Öndər Heydər Əliyev məktəbinin layiqli dav...    NaN\n",
       "58909  Eləcə də Qarabağda aparılan genişmiqyaslı bərp...    NaN\n",
       "58912  Ulu Öndər Heydər Əliyev məktəbinin layiqli dav...    NaN\n",
       "58913  Noyabrın 3-dən 4-nə keçən gecə Ermənistan sila...    NaN\n",
       "58946  Öz ana dilində danışa bilmir deyənlərə lağ edə...    NaN\n",
       "58984  Sadece oz fikirimi deyimki playofa cixib cempi...    NaN\n",
       "59101  Deməli mənim bir baş ustam var!!! Mən işləyən ...    NaN\n",
       "59254  Mən bu mənfi xüsusiyyətlərin bəzilərinin səbəb...    NaN\n",
       "59336  Çox mühüm məsələyə toxunmusuniz! Sizə ancaq uğ...    NaN\n",
       "59337  Bu sevgını usaglara asılaja bılse cemıjjet ölk...    NaN\n",
       "59338  Bu mövzunu rus kallarında tez tez rast gəlirik...    NaN\n",
       "59368  ucuzluguna aldanib aldginiz mehsullarin terkib...    NaN\n",
       "59403  Men basa dusmedim niye gelirler muqasyise edil...    NaN\n",
       "59449  Xırdalan ayrıca şəhərdi ora 3 ədəd sizə tabeli...    NaN\n",
       "59452  Birdene bu dayvolar ancaq dayncaqda saxliya bi...    NaN\n",
       "59453  ümumi əhalinin cəmi 20 faizə qədəri şəxsi avto...    NaN\n",
       "59472  Zolaqların əhəmiyyəti çox böyekdü əlbətdə amma...    NaN\n",
       "59482  Siz demek istyrsiz 80 nefer bir birinin ustune...    NaN\n",
       "59798                                                NaN    NaN\n",
       "67842  Necə ki, kitablarda önəmli cümlələr olur , biz...    NaN\n",
       "67886  Qəribə insanam, repdən gedirəm dediyim günün s...    NaN\n",
       "67897  Sonuncu dinləyicin ölənə qədər bizimlə qal, Or...    NaN\n",
       "68300                                     2022 butonuyam    NaN\n",
       "69236  Tam 17 yawimda girdin heyatima hansiki tehsil ...    NaN\n",
       "69250  Sən onun kürəyini, Mənimsə ürəyimi cırmaqladın...    NaN\n",
       "69725                                                NaN    NaN\n",
       "71457  yazılı tapşırıqlar öldürübdü da məni, bəyaq ba...    NaN\n",
       "71480     üç gəloxçu- novruz, ramiz, özgür şahsuvarlılar    NaN\n",
       "71567                            sənik mənik pirənnik :d    NaN\n",
       "71654  Bütün Növ Meyvə ağaclarının və dekorativ aqac ...    NaN"
      ]
     },
     "execution_count": 10,
     "metadata": {},
     "output_type": "execute_result"
    }
   ],
   "source": [
    "df[df.isnull().any(axis=1)] # The rows where we have NaN  "
   ]
  },
  {
   "cell_type": "code",
   "execution_count": 11,
   "metadata": {},
   "outputs": [],
   "source": [
    "# Deleting these rows\n",
    "df = df[~df.isnull().any(axis=1)].reset_index(drop=True)"
   ]
  },
  {
   "cell_type": "code",
   "execution_count": 12,
   "metadata": {},
   "outputs": [
    {
     "data": {
      "text/plain": [
       "original    0\n",
       "corect      0\n",
       "dtype: int64"
      ]
     },
     "execution_count": 12,
     "metadata": {},
     "output_type": "execute_result"
    }
   ],
   "source": [
    "# Now we do not have NaN values\n",
    "df.isna().sum()"
   ]
  },
  {
   "cell_type": "code",
   "execution_count": 13,
   "metadata": {},
   "outputs": [
    {
     "data": {
      "text/plain": [
       "original    hə qadanalım çox sağolun 😊\n",
       "corect               hə çox sağ olun 😊\n",
       "Name: 14378, dtype: object"
      ]
     },
     "execution_count": 13,
     "metadata": {},
     "output_type": "execute_result"
    }
   ],
   "source": [
    "df.iloc[14378, :]"
   ]
  },
  {
   "cell_type": "code",
   "execution_count": 14,
   "metadata": {},
   "outputs": [
    {
     "data": {
      "text/plain": [
       "RangeIndex(start=0, stop=72271, step=1)"
      ]
     },
     "execution_count": 14,
     "metadata": {},
     "output_type": "execute_result"
    }
   ],
   "source": [
    "df.index"
   ]
  },
  {
   "cell_type": "code",
   "execution_count": 15,
   "metadata": {},
   "outputs": [
    {
     "data": {
      "text/plain": [
       "'hə çox sağ olun 😊'"
      ]
     },
     "execution_count": 15,
     "metadata": {},
     "output_type": "execute_result"
    }
   ],
   "source": [
    "df.iloc[14378, 1]"
   ]
  },
  {
   "cell_type": "code",
   "execution_count": 16,
   "metadata": {},
   "outputs": [
    {
     "data": {
      "text/plain": [
       "(72271, 2)"
      ]
     },
     "execution_count": 16,
     "metadata": {},
     "output_type": "execute_result"
    }
   ],
   "source": [
    "df.shape"
   ]
  },
  {
   "cell_type": "code",
   "execution_count": 17,
   "metadata": {},
   "outputs": [],
   "source": [
    "# If all of text consists of numbers save their indexes\n",
    "num_row_indexes = [] \n",
    "for i in range(df.shape[0]):\n",
    "  if df.iloc[i, 0].isnumeric() and df.iloc[i, 1].isnumeric():\n",
    "    num_row_indexes.append(i)"
   ]
  },
  {
   "cell_type": "code",
   "execution_count": 18,
   "metadata": {},
   "outputs": [
    {
     "data": {
      "text/html": [
       "<div>\n",
       "<style scoped>\n",
       "    .dataframe tbody tr th:only-of-type {\n",
       "        vertical-align: middle;\n",
       "    }\n",
       "\n",
       "    .dataframe tbody tr th {\n",
       "        vertical-align: top;\n",
       "    }\n",
       "\n",
       "    .dataframe thead th {\n",
       "        text-align: right;\n",
       "    }\n",
       "</style>\n",
       "<table border=\"1\" class=\"dataframe\">\n",
       "  <thead>\n",
       "    <tr style=\"text-align: right;\">\n",
       "      <th></th>\n",
       "      <th>original</th>\n",
       "      <th>corect</th>\n",
       "    </tr>\n",
       "  </thead>\n",
       "  <tbody>\n",
       "    <tr>\n",
       "      <th>4</th>\n",
       "      <td>329327329327</td>\n",
       "      <td>329327329327</td>\n",
       "    </tr>\n",
       "    <tr>\n",
       "      <th>77</th>\n",
       "      <td>2500</td>\n",
       "      <td>2500</td>\n",
       "    </tr>\n",
       "    <tr>\n",
       "      <th>219</th>\n",
       "      <td>650</td>\n",
       "      <td>650</td>\n",
       "    </tr>\n",
       "    <tr>\n",
       "      <th>312</th>\n",
       "      <td>18</td>\n",
       "      <td>18</td>\n",
       "    </tr>\n",
       "    <tr>\n",
       "      <th>358</th>\n",
       "      <td>0555050555054627</td>\n",
       "      <td>0555050555054627</td>\n",
       "    </tr>\n",
       "    <tr>\n",
       "      <th>...</th>\n",
       "      <td>...</td>\n",
       "      <td>...</td>\n",
       "    </tr>\n",
       "    <tr>\n",
       "      <th>18435</th>\n",
       "      <td>156630156630</td>\n",
       "      <td>156630156630</td>\n",
       "    </tr>\n",
       "    <tr>\n",
       "      <th>18462</th>\n",
       "      <td>15000</td>\n",
       "      <td>15000</td>\n",
       "    </tr>\n",
       "    <tr>\n",
       "      <th>18587</th>\n",
       "      <td>300</td>\n",
       "      <td>300</td>\n",
       "    </tr>\n",
       "    <tr>\n",
       "      <th>18588</th>\n",
       "      <td>5000</td>\n",
       "      <td>5000</td>\n",
       "    </tr>\n",
       "    <tr>\n",
       "      <th>67731</th>\n",
       "      <td>7</td>\n",
       "      <td>7</td>\n",
       "    </tr>\n",
       "  </tbody>\n",
       "</table>\n",
       "<p>189 rows × 2 columns</p>\n",
       "</div>"
      ],
      "text/plain": [
       "               original            corect\n",
       "4          329327329327      329327329327\n",
       "77                 2500              2500\n",
       "219                 650               650\n",
       "312                  18                18\n",
       "358    0555050555054627  0555050555054627\n",
       "...                 ...               ...\n",
       "18435      156630156630      156630156630\n",
       "18462             15000             15000\n",
       "18587               300               300\n",
       "18588              5000              5000\n",
       "67731                 7                 7\n",
       "\n",
       "[189 rows x 2 columns]"
      ]
     },
     "execution_count": 18,
     "metadata": {},
     "output_type": "execute_result"
    }
   ],
   "source": [
    "df.iloc[num_row_indexes, :]"
   ]
  },
  {
   "cell_type": "code",
   "execution_count": 19,
   "metadata": {},
   "outputs": [],
   "source": [
    "# Deleting these indexes\n",
    "df.drop(num_row_indexes, axis=0, inplace=True)"
   ]
  },
  {
   "cell_type": "code",
   "execution_count": 20,
   "metadata": {},
   "outputs": [
    {
     "data": {
      "text/plain": [
       "(72082, 2)"
      ]
     },
     "execution_count": 20,
     "metadata": {},
     "output_type": "execute_result"
    }
   ],
   "source": [
    "df.shape"
   ]
  },
  {
   "cell_type": "code",
   "execution_count": 21,
   "metadata": {},
   "outputs": [],
   "source": [
    "# finding <something pattern>\n",
    "df.reset_index(drop=True,inplace=True)\n",
    "hiding_info_indexes = [] \n",
    "for i in range(df.shape[0]):\n",
    "  if re.findall(\"<[\\s\\S]*?>\", df.iloc[i, 0]) or re.findall(\"<[\\s\\S]*?>\", df.iloc[i, 1]):\n",
    "    hiding_info_indexes.append(i)"
   ]
  },
  {
   "cell_type": "code",
   "execution_count": 22,
   "metadata": {},
   "outputs": [
    {
     "data": {
      "text/html": [
       "<div>\n",
       "<style scoped>\n",
       "    .dataframe tbody tr th:only-of-type {\n",
       "        vertical-align: middle;\n",
       "    }\n",
       "\n",
       "    .dataframe tbody tr th {\n",
       "        vertical-align: top;\n",
       "    }\n",
       "\n",
       "    .dataframe thead th {\n",
       "        text-align: right;\n",
       "    }\n",
       "</style>\n",
       "<table border=\"1\" class=\"dataframe\">\n",
       "  <thead>\n",
       "    <tr style=\"text-align: right;\">\n",
       "      <th></th>\n",
       "      <th>original</th>\n",
       "      <th>corect</th>\n",
       "    </tr>\n",
       "  </thead>\n",
       "  <tbody>\n",
       "    <tr>\n",
       "      <th>422</th>\n",
       "      <td>xanim men kredit ucun muraciet etmey istiyirem...</td>\n",
       "      <td>Xanım mən kredit üçün   müraciət etmək istəyir...</td>\n",
       "    </tr>\n",
       "    <tr>\n",
       "      <th>687</th>\n",
       "      <td>salam telefonda uni bank kodu aca bilmirem usa...</td>\n",
       "      <td>Salam,   telefonda unibank kodu aça bilmirəm u...</td>\n",
       "    </tr>\n",
       "    <tr>\n",
       "      <th>1015</th>\n",
       "      <td>kreditle bagli narahat edirem sizden mene cava...</td>\n",
       "      <td>kreditlə bağlı narahat edirəm sizdən mənə cava...</td>\n",
       "    </tr>\n",
       "    <tr>\n",
       "      <th>1053</th>\n",
       "      <td>salam men uniden debet kartim var sexisi həsab...</td>\n",
       "      <td>Salam,   mən unidən debet kartım var şəxsi hes...</td>\n",
       "    </tr>\n",
       "    <tr>\n",
       "      <th>1187</th>\n",
       "      <td>dənizdə işlədiyimə görə 19.09.2020 isə gedirəm...</td>\n",
       "      <td>dənizdə işlədiyimə görə 19.09.2020 işə gedirəm...</td>\n",
       "    </tr>\n",
       "    <tr>\n",
       "      <th>...</th>\n",
       "      <td>...</td>\n",
       "      <td>...</td>\n",
       "    </tr>\n",
       "    <tr>\n",
       "      <th>18111</th>\n",
       "      <td>&lt;first_name&gt; &lt;first_name&gt; &lt;first_name&gt; oglu &lt;f...</td>\n",
       "      <td>&lt;first_name&gt; &lt;first_name&gt; &lt;first_name&gt; oğlu &lt;f...</td>\n",
       "    </tr>\n",
       "    <tr>\n",
       "      <th>18162</th>\n",
       "      <td>salam. müddətli əmanət depoziti şərtlərində 12...</td>\n",
       "      <td>Salam, müddətli əmanət depoziti şərtlərində 12...</td>\n",
       "    </tr>\n",
       "    <tr>\n",
       "      <th>18230</th>\n",
       "      <td>təşəkurlər mənim öz kartım var dərvişov &lt;first...</td>\n",
       "      <td>təşəkkürlər. Mənim öz kartım var Dərvişov &lt;fir...</td>\n",
       "    </tr>\n",
       "    <tr>\n",
       "      <th>18260</th>\n",
       "      <td>6 &lt;first_name&gt; tarixinde kartima pul gonderili...</td>\n",
       "      <td>6 &lt;first_name&gt; tarixində kartıma pul göndərili...</td>\n",
       "    </tr>\n",
       "    <tr>\n",
       "      <th>18402</th>\n",
       "      <td>menim kartim baglanib pin kodu &lt;first_name&gt; yi...</td>\n",
       "      <td>mənim kartım bağlanıb pin kodu &lt;first_name&gt; yı...</td>\n",
       "    </tr>\n",
       "  </tbody>\n",
       "</table>\n",
       "<p>132 rows × 2 columns</p>\n",
       "</div>"
      ],
      "text/plain": [
       "                                                original  \\\n",
       "422    xanim men kredit ucun muraciet etmey istiyirem...   \n",
       "687    salam telefonda uni bank kodu aca bilmirem usa...   \n",
       "1015   kreditle bagli narahat edirem sizden mene cava...   \n",
       "1053   salam men uniden debet kartim var sexisi həsab...   \n",
       "1187   dənizdə işlədiyimə görə 19.09.2020 isə gedirəm...   \n",
       "...                                                  ...   \n",
       "18111  <first_name> <first_name> <first_name> oglu <f...   \n",
       "18162  salam. müddətli əmanət depoziti şərtlərində 12...   \n",
       "18230  təşəkurlər mənim öz kartım var dərvişov <first...   \n",
       "18260  6 <first_name> tarixinde kartima pul gonderili...   \n",
       "18402  menim kartim baglanib pin kodu <first_name> yi...   \n",
       "\n",
       "                                                  corect  \n",
       "422    Xanım mən kredit üçün   müraciət etmək istəyir...  \n",
       "687    Salam,   telefonda unibank kodu aça bilmirəm u...  \n",
       "1015   kreditlə bağlı narahat edirəm sizdən mənə cava...  \n",
       "1053   Salam,   mən unidən debet kartım var şəxsi hes...  \n",
       "1187   dənizdə işlədiyimə görə 19.09.2020 işə gedirəm...  \n",
       "...                                                  ...  \n",
       "18111  <first_name> <first_name> <first_name> oğlu <f...  \n",
       "18162  Salam, müddətli əmanət depoziti şərtlərində 12...  \n",
       "18230  təşəkkürlər. Mənim öz kartım var Dərvişov <fir...  \n",
       "18260  6 <first_name> tarixində kartıma pul göndərili...  \n",
       "18402  mənim kartım bağlanıb pin kodu <first_name> yı...  \n",
       "\n",
       "[132 rows x 2 columns]"
      ]
     },
     "execution_count": 22,
     "metadata": {},
     "output_type": "execute_result"
    }
   ],
   "source": [
    "df.iloc[hiding_info_indexes, :]"
   ]
  },
  {
   "cell_type": "code",
   "execution_count": 23,
   "metadata": {},
   "outputs": [
    {
     "data": {
      "text/plain": [
       "132"
      ]
     },
     "execution_count": 23,
     "metadata": {},
     "output_type": "execute_result"
    }
   ],
   "source": [
    "df.iloc[hiding_info_indexes, :].shape[0]"
   ]
  },
  {
   "cell_type": "code",
   "execution_count": 24,
   "metadata": {},
   "outputs": [],
   "source": [
    "# Droping tehese indexes\n",
    "df.drop(hiding_info_indexes, axis=0, inplace=True)\n",
    "df.reset_index(drop=True,inplace=True)"
   ]
  },
  {
   "cell_type": "code",
   "execution_count": 25,
   "metadata": {},
   "outputs": [
    {
     "data": {
      "text/plain": [
       "(71950, 2)"
      ]
     },
     "execution_count": 25,
     "metadata": {},
     "output_type": "execute_result"
    }
   ],
   "source": [
    "df.shape"
   ]
  },
  {
   "cell_type": "code",
   "execution_count": 26,
   "metadata": {},
   "outputs": [
    {
     "name": "stdout",
     "output_type": "stream",
     "text": [
      "ortalama  birinci if\n",
      "siralama  birinci if\n",
      "Salamzade  birinci if\n",
      "sadalamaq  birinci if\n",
      "siralamaq  birinci if\n",
      "imzalamaqa  birinci if\n",
      "parcalamaq  birinci if\n",
      "salamlayir  birinci if\n",
      "salamatdir  birinci if\n",
      "ortalamasi  birinci if\n",
      "saq-salamat  birinci if\n",
      "imzalamisdi  birinci if\n",
      "parcalamaqa  birinci if\n",
      "imzalamisdir  birinci if\n",
      "eleyhissalam  birinci if\n",
      "siqortalamaq  birinci if\n",
      "eleyhis-salam  birinci if\n"
     ]
    }
   ],
   "source": [
    "# If there is one word let's see them\n",
    "one_letter_index = [] \n",
    "investigation = []\n",
    "for i in range(df.shape[0]):\n",
    "  if len(df.iloc[i, 0].split()) == 1 and not re.sub(r'[^\\w\\s]', '', df.iloc[i, 0]).isalpha():\n",
    "    if \"alam\" in df.iloc[i, 0]:\n",
    "      print(df.iloc[i, 0], \"birinci if\")\n",
    "    one_letter_index.append(i)\n",
    "  elif len(df.iloc[i, 1].split()) == 1 and not re.sub(r'[^\\w\\s]', '', df.iloc[i, 1]).isalpha():\n",
    "    one_letter_index.append(i)"
   ]
  },
  {
   "cell_type": "code",
   "execution_count": 27,
   "metadata": {},
   "outputs": [
    {
     "data": {
      "text/html": [
       "<div>\n",
       "<style scoped>\n",
       "    .dataframe tbody tr th:only-of-type {\n",
       "        vertical-align: middle;\n",
       "    }\n",
       "\n",
       "    .dataframe tbody tr th {\n",
       "        vertical-align: top;\n",
       "    }\n",
       "\n",
       "    .dataframe thead th {\n",
       "        text-align: right;\n",
       "    }\n",
       "</style>\n",
       "<table border=\"1\" class=\"dataframe\">\n",
       "  <thead>\n",
       "    <tr style=\"text-align: right;\">\n",
       "      <th></th>\n",
       "      <th>original</th>\n",
       "      <th>corect</th>\n",
       "    </tr>\n",
       "  </thead>\n",
       "  <tbody>\n",
       "    <tr>\n",
       "      <th>29</th>\n",
       "      <td>5478frt</td>\n",
       "      <td>5478frt</td>\n",
       "    </tr>\n",
       "    <tr>\n",
       "      <th>110</th>\n",
       "      <td>5d7x85r</td>\n",
       "      <td>5d7x85r</td>\n",
       "    </tr>\n",
       "    <tr>\n",
       "      <th>248</th>\n",
       "      <td>6l5lf4</td>\n",
       "      <td>6l5lf4</td>\n",
       "    </tr>\n",
       "    <tr>\n",
       "      <th>565</th>\n",
       "      <td>gtrs54g</td>\n",
       "      <td>gtrs54g</td>\n",
       "    </tr>\n",
       "    <tr>\n",
       "      <th>814</th>\n",
       "      <td>fdri45k</td>\n",
       "      <td>fdri45k</td>\n",
       "    </tr>\n",
       "    <tr>\n",
       "      <th>...</th>\n",
       "      <td>...</td>\n",
       "      <td>...</td>\n",
       "    </tr>\n",
       "    <tr>\n",
       "      <th>71711</th>\n",
       "      <td>…</td>\n",
       "      <td>…</td>\n",
       "    </tr>\n",
       "    <tr>\n",
       "      <th>71729</th>\n",
       "      <td>…</td>\n",
       "      <td>…</td>\n",
       "    </tr>\n",
       "    <tr>\n",
       "      <th>71761</th>\n",
       "      <td>…</td>\n",
       "      <td>…</td>\n",
       "    </tr>\n",
       "    <tr>\n",
       "      <th>71828</th>\n",
       "      <td>:)</td>\n",
       "      <td>:)</td>\n",
       "    </tr>\n",
       "    <tr>\n",
       "      <th>71850</th>\n",
       "      <td>✍🏻</td>\n",
       "      <td>✍🏻</td>\n",
       "    </tr>\n",
       "  </tbody>\n",
       "</table>\n",
       "<p>25061 rows × 2 columns</p>\n",
       "</div>"
      ],
      "text/plain": [
       "      original   corect\n",
       "29     5478frt  5478frt\n",
       "110    5d7x85r  5d7x85r\n",
       "248     6l5lf4   6l5lf4\n",
       "565    gtrs54g  gtrs54g\n",
       "814    fdri45k  fdri45k\n",
       "...        ...      ...\n",
       "71711        …        …\n",
       "71729        …        …\n",
       "71761        …        …\n",
       "71828       :)       :)\n",
       "71850       ✍🏻       ✍🏻\n",
       "\n",
       "[25061 rows x 2 columns]"
      ]
     },
     "execution_count": 27,
     "metadata": {},
     "output_type": "execute_result"
    }
   ],
   "source": [
    "df.iloc[one_letter_index, :]"
   ]
  },
  {
   "cell_type": "code",
   "execution_count": 28,
   "metadata": {},
   "outputs": [],
   "source": [
    "have_to_delete = [29, ]"
   ]
  },
  {
   "cell_type": "code",
   "execution_count": 29,
   "metadata": {},
   "outputs": [
    {
     "data": {
      "text/plain": [
       "False"
      ]
     },
     "execution_count": 29,
     "metadata": {},
     "output_type": "execute_result"
    }
   ],
   "source": [
    "\"kredit?\".isalpha()"
   ]
  },
  {
   "cell_type": "code",
   "execution_count": 30,
   "metadata": {},
   "outputs": [
    {
     "data": {
      "text/plain": [
       "False"
      ]
     },
     "execution_count": 30,
     "metadata": {},
     "output_type": "execute_result"
    }
   ],
   "source": [
    "re.sub(r'[^\\w\\s]', '', df.iloc[i, 0]).isalpha()"
   ]
  },
  {
   "cell_type": "code",
   "execution_count": null,
   "metadata": {},
   "outputs": [],
   "source": [
    "len(\"salam ala\".split()) == 1 and not re.sub(r'[^\\w\\s]', '', \"salam ala\").isalpha()"
   ]
  },
  {
   "cell_type": "code",
   "execution_count": null,
   "metadata": {},
   "outputs": [],
   "source": [
    "not_delete = [6876, 1424, 1430, 9658, 9643, 10318, 10389, 11778, 11779, 14957, 15404, 15479, 16045, 17354, 17371, 17568, 18697, 16045, 17371, 10389, 12229, 9658, 8091, 3847]"
   ]
  },
  {
   "cell_type": "code",
   "execution_count": 36,
   "metadata": {},
   "outputs": [],
   "source": [
    "# Droping one letter indexes\n",
    "df.drop(one_letter_index, axis=0, inplace=True)\n",
    "df.reset_index(drop=True,inplace=True)"
   ]
  },
  {
   "cell_type": "code",
   "execution_count": 31,
   "metadata": {},
   "outputs": [],
   "source": [
    "test = df.iloc[14224-323+5, :][\"original\"]"
   ]
  },
  {
   "cell_type": "code",
   "execution_count": 32,
   "metadata": {},
   "outputs": [
    {
     "data": {
      "text/plain": [
       "'mən 510 manat vurdum 51 azn tutdu niyə?'"
      ]
     },
     "execution_count": 32,
     "metadata": {},
     "output_type": "execute_result"
    }
   ],
   "source": [
    "test"
   ]
  },
  {
   "cell_type": "code",
   "execution_count": 33,
   "metadata": {},
   "outputs": [],
   "source": [
    "# <first_name> falan-i regexle tapmaq  +\n",
    "# Emojileri tapmaq ve silemek +\n",
    "# sstrip elemek butun hamisini +\n",
    "# i leri evez elemek Ahmad-in kodunda var hemen hisse\n"
   ]
  },
  {
   "cell_type": "code",
   "execution_count": 34,
   "metadata": {},
   "outputs": [],
   "source": [
    "import re\n",
    "def remove_emojis(data):\n",
    "    emoj = re.compile(\"[\"\n",
    "        u\"\\U0001F600-\\U0001F64F\"  # emoticons\n",
    "        u\"\\U0001F300-\\U0001F5FF\"  # symbols & pictographs\n",
    "        u\"\\U0001F680-\\U0001F6FF\"  # transport & map symbols\n",
    "        u\"\\U0001F1E0-\\U0001F1FF\"  # flags (iOS)\n",
    "        u\"\\U00002500-\\U00002BEF\"  # chinese char\n",
    "        u\"\\U00002702-\\U000027B0\"\n",
    "        u\"\\U00002702-\\U000027B0\"\n",
    "        u\"\\U000024C2-\\U0001F251\"\n",
    "        u\"\\U0001f926-\\U0001f937\"\n",
    "        u\"\\U00010000-\\U0010ffff\"\n",
    "        u\"\\u2640-\\u2642\" \n",
    "        u\"\\u2600-\\u2B55\"\n",
    "        u\"\\u200d\"\n",
    "        u\"\\u23cf\"\n",
    "        u\"\\u23e9\"\n",
    "        u\"\\u231a\"\n",
    "        u\"\\ufe0f\"  # dingbats\n",
    "        u\"\\u3030\"\n",
    "                      \"]+\", re.UNICODE)\n",
    "    return re.sub(emoj, '', data)\n",
    "# function for preprocessing sentences\n",
    "def preprocess_sentence(w):\n",
    "  #w = unicode_to_ascii(w.lower().strip())\n",
    "  w=str(w)\n",
    "  w = remove_emojis(w)\n",
    "  w = w.strip()\n",
    "  # creating a space between a word and the punctuation following it\n",
    "  # eg: \"he is a boy.\" => \"he is a boy .\"\n",
    "  # Reference:- https://stackoverflow.com/questions/3645931/python-padding-punctuation-with-white-spaces-keeping-punctuation\n",
    "  w = re.sub(r\"([?.!,¿])\", r\" \\1 \", w)\n",
    "  w = re.sub(r'[\" \"]+', \" \", w)\n",
    "\n",
    "  # replacing everything with space except (a-z, A-Z, \".\", \"?\", \"!\", \",\")\n",
    "  w = re.sub(r\"[^a-zA-Z?.!,¿]+yüukenqşhzxjfıvaproldcgəçsmitğböYÜUKENQŞHZXJFIVAPROLDCGƏÇSMİTĞBÖ\", \" \", w)\n",
    "\n",
    "  w = w.strip()\n",
    "\n",
    "  # adding a start and an end token to the sentence\n",
    "  # so that the model know when to start and stop predicting.\n",
    "  #w = '<start> ' + w + ' <end>'\n",
    "  w = '< ' + w + ' >'\n",
    "  return w"
   ]
  },
  {
   "cell_type": "code",
   "execution_count": 35,
   "metadata": {},
   "outputs": [
    {
     "data": {
      "text/plain": [
       "'< Cavab vərmirsiz ama >'"
      ]
     },
     "execution_count": 35,
     "metadata": {},
     "output_type": "execute_result"
    }
   ],
   "source": [
    "preprocess_sentence(\"Cavab vərmirsiz ama 😕\")"
   ]
  },
  {
   "cell_type": "code",
   "execution_count": 36,
   "metadata": {},
   "outputs": [],
   "source": [
    "for i in range(df.shape[0]):\n",
    "  df['original'][i] = preprocess_sentence(df['original'][i])\n",
    "  df['corect'][i] = preprocess_sentence(df['corect'][i])"
   ]
  },
  {
   "cell_type": "code",
   "execution_count": 37,
   "metadata": {},
   "outputs": [
    {
     "data": {
      "text/html": [
       "<div>\n",
       "<style scoped>\n",
       "    .dataframe tbody tr th:only-of-type {\n",
       "        vertical-align: middle;\n",
       "    }\n",
       "\n",
       "    .dataframe tbody tr th {\n",
       "        vertical-align: top;\n",
       "    }\n",
       "\n",
       "    .dataframe thead th {\n",
       "        text-align: right;\n",
       "    }\n",
       "</style>\n",
       "<table border=\"1\" class=\"dataframe\">\n",
       "  <thead>\n",
       "    <tr style=\"text-align: right;\">\n",
       "      <th></th>\n",
       "      <th>original</th>\n",
       "      <th>corect</th>\n",
       "    </tr>\n",
       "  </thead>\n",
       "  <tbody>\n",
       "    <tr>\n",
       "      <th>0</th>\n",
       "      <td>&lt; salam . mən plastik kartı necə onlayn sifari...</td>\n",
       "      <td>&lt; Salam , mən plastik kartı necə onlayn sifari...</td>\n",
       "    </tr>\n",
       "    <tr>\n",
       "      <th>1</th>\n",
       "      <td>&lt; niye &gt;</td>\n",
       "      <td>&lt; niyə &gt;</td>\n",
       "    </tr>\n",
       "    <tr>\n",
       "      <th>2</th>\n",
       "      <td>&lt; türkiyənin bank kartina &gt;</td>\n",
       "      <td>&lt; Türkiyənin bank kartına &gt;</td>\n",
       "    </tr>\n",
       "    <tr>\n",
       "      <th>3</th>\n",
       "      <td>&lt; mene cek cixardir ki blok olunub kartiniz &gt;</td>\n",
       "      <td>&lt; Mənə çek çıxardır ki , blok olub kartınız . &gt;</td>\n",
       "    </tr>\n",
       "    <tr>\n",
       "      <th>4</th>\n",
       "      <td>&lt; ygun xanim salam sabahiniz xeyir olsun &gt;</td>\n",
       "      <td>&lt; Aygün xanım , Salam , sabahınız xeyir olsun ! &gt;</td>\n",
       "    </tr>\n",
       "  </tbody>\n",
       "</table>\n",
       "</div>"
      ],
      "text/plain": [
       "                                            original  \\\n",
       "0  < salam . mən plastik kartı necə onlayn sifari...   \n",
       "1                                           < niye >   \n",
       "2                        < türkiyənin bank kartina >   \n",
       "3      < mene cek cixardir ki blok olunub kartiniz >   \n",
       "4         < ygun xanim salam sabahiniz xeyir olsun >   \n",
       "\n",
       "                                              corect  \n",
       "0  < Salam , mən plastik kartı necə onlayn sifari...  \n",
       "1                                           < niyə >  \n",
       "2                        < Türkiyənin bank kartına >  \n",
       "3    < Mənə çek çıxardır ki , blok olub kartınız . >  \n",
       "4  < Aygün xanım , Salam , sabahınız xeyir olsun ! >  "
      ]
     },
     "execution_count": 37,
     "metadata": {},
     "output_type": "execute_result"
    }
   ],
   "source": [
    "df.head()"
   ]
  },
  {
   "cell_type": "code",
   "execution_count": 38,
   "metadata": {},
   "outputs": [
    {
     "data": {
      "text/html": [
       "<div>\n",
       "<style scoped>\n",
       "    .dataframe tbody tr th:only-of-type {\n",
       "        vertical-align: middle;\n",
       "    }\n",
       "\n",
       "    .dataframe tbody tr th {\n",
       "        vertical-align: top;\n",
       "    }\n",
       "\n",
       "    .dataframe thead th {\n",
       "        text-align: right;\n",
       "    }\n",
       "</style>\n",
       "<table border=\"1\" class=\"dataframe\">\n",
       "  <thead>\n",
       "    <tr style=\"text-align: right;\">\n",
       "      <th></th>\n",
       "      <th>original</th>\n",
       "      <th>corect</th>\n",
       "    </tr>\n",
       "  </thead>\n",
       "  <tbody>\n",
       "    <tr>\n",
       "      <th>71945</th>\n",
       "      <td>&lt; Qəşəng söyərdim bunu yeri deyil &gt;</td>\n",
       "      <td>&lt; Qəşəng söyərdim bunu yeri deyil &gt;</td>\n",
       "    </tr>\n",
       "    <tr>\n",
       "      <th>71946</th>\n",
       "      <td>&lt; Mədəni ol &gt;</td>\n",
       "      <td>&lt; Mədəni ol &gt;</td>\n",
       "    </tr>\n",
       "    <tr>\n",
       "      <th>71947</th>\n",
       "      <td>&lt; Filmlər o qədər möhtəşəm şeylərdir ki , tari...</td>\n",
       "      <td>&lt; Filmlər o qədər möhtəşəm şeylərdir ki , tari...</td>\n",
       "    </tr>\n",
       "    <tr>\n",
       "      <th>71948</th>\n",
       "      <td>&lt; Mənə niyə telefonu cevirttirdinnnn ! ! ! ;dd &gt;</td>\n",
       "      <td>&lt; Mənə niyə telefonu cevirttirdinnnn ! ! ! ;dd &gt;</td>\n",
       "    </tr>\n",
       "    <tr>\n",
       "      <th>71949</th>\n",
       "      <td>&lt; Yaxşı muğam oxuyan ola , oturasan böyründə ,...</td>\n",
       "      <td>&lt; Yaxşı muğam oxuyan ola , oturasan böyründə ,...</td>\n",
       "    </tr>\n",
       "  </tbody>\n",
       "</table>\n",
       "</div>"
      ],
      "text/plain": [
       "                                                original  \\\n",
       "71945                < Qəşəng söyərdim bunu yeri deyil >   \n",
       "71946                                      < Mədəni ol >   \n",
       "71947  < Filmlər o qədər möhtəşəm şeylərdir ki , tari...   \n",
       "71948   < Mənə niyə telefonu cevirttirdinnnn ! ! ! ;dd >   \n",
       "71949  < Yaxşı muğam oxuyan ola , oturasan böyründə ,...   \n",
       "\n",
       "                                                  corect  \n",
       "71945                < Qəşəng söyərdim bunu yeri deyil >  \n",
       "71946                                      < Mədəni ol >  \n",
       "71947  < Filmlər o qədər möhtəşəm şeylərdir ki , tari...  \n",
       "71948   < Mənə niyə telefonu cevirttirdinnnn ! ! ! ;dd >  \n",
       "71949  < Yaxşı muğam oxuyan ola , oturasan böyründə ,...  "
      ]
     },
     "execution_count": 38,
     "metadata": {},
     "output_type": "execute_result"
    }
   ],
   "source": [
    "df.tail()"
   ]
  },
  {
   "cell_type": "code",
   "execution_count": 39,
   "metadata": {},
   "outputs": [
    {
     "data": {
      "text/plain": [
       "original    < fevralin 1 i bankadan zeng elediler ki odeni...\n",
       "corect      < Fevralın 1-i bankdan zəng eledilər ki , ödən...\n",
       "Name: 17499, dtype: object"
      ]
     },
     "execution_count": 39,
     "metadata": {},
     "output_type": "execute_result"
    }
   ],
   "source": [
    "df.iloc[17499, :]"
   ]
  },
  {
   "cell_type": "code",
   "execution_count": 40,
   "metadata": {},
   "outputs": [],
   "source": [
    "df.drop(17499, axis=0, inplace=True)"
   ]
  },
  {
   "cell_type": "code",
   "execution_count": 41,
   "metadata": {},
   "outputs": [],
   "source": [
    "# Shuffling the data\n",
    "shuffled_data = df.sample(frac=1).reset_index(drop=True)"
   ]
  },
  {
   "cell_type": "code",
   "execution_count": 42,
   "metadata": {},
   "outputs": [
    {
     "data": {
      "text/plain": [
       "(64754, 64754, 7195, 7195)"
      ]
     },
     "execution_count": 42,
     "metadata": {},
     "output_type": "execute_result"
    }
   ],
   "source": [
    "X_train, X_test, y_train, y_test = train_test_split(shuffled_data['original'], shuffled_data['corect'],test_size = 0.1)\n",
    "len(X_train),len(y_train), len(X_test), len(y_test)"
   ]
  },
  {
   "cell_type": "code",
   "execution_count": 43,
   "metadata": {
    "id": "P1bXeG9sEsE_"
   },
   "outputs": [],
   "source": [
    "# finding average sentence lenght\n",
    "def average_length(data):\n",
    "  avg_length = np.mean([len(x) for x in data])\n",
    "  return int(avg_length)\n",
    "\n",
    "def max_length(data):\n",
    "  max_ = max([len(x) for x in data])\n",
    "  return int(max_)\n",
    "#Training data\n",
    "average_length_input = average_length(X_train)\n",
    "average_length_output = average_length(y_train)\n",
    "\n",
    "#Test data\n",
    "average_length_input_test = average_length(X_test)\n",
    "average_length_output_test = average_length(y_test)"
   ]
  },
  {
   "cell_type": "code",
   "execution_count": 44,
   "metadata": {
    "colab": {
     "base_uri": "https://localhost:8080/"
    },
    "id": "vPZCyJy_Ezxm",
    "outputId": "74fd4e12-1238-48c1-84fd-e058505371cb"
   },
   "outputs": [
    {
     "data": {
      "text/plain": [
       "(34, 34)"
      ]
     },
     "execution_count": 44,
     "metadata": {},
     "output_type": "execute_result"
    }
   ],
   "source": [
    "average_length_input, average_length_output"
   ]
  },
  {
   "cell_type": "code",
   "execution_count": 45,
   "metadata": {
    "id": "mdYTP_urE2C0"
   },
   "outputs": [],
   "source": [
    "# Creating and applying tokenizers, pad_sequences for input data\n",
    "inputTokenizer = Tokenizer(char_level=True, split=' ',filters='', lower=False)\n",
    "inputTokenizer.fit_on_texts(X_train)\n",
    "Eword2index = inputTokenizer.word_index\n",
    "vocab_size_source = len(Eword2index) + 1\n",
    "\n",
    "X_train = inputTokenizer.texts_to_sequences(X_train)\n",
    "X_train = pad_sequences(X_train, maxlen=average_length_input, padding='post')\n",
    "\n",
    "X_test = inputTokenizer.texts_to_sequences(X_test)\n",
    "X_test = pad_sequences(X_test, maxlen = average_length_input, padding='post')\n",
    "\n",
    "\n"
   ]
  },
  {
   "cell_type": "code",
   "execution_count": 46,
   "metadata": {
    "colab": {
     "base_uri": "https://localhost:8080/"
    },
    "id": "ekS0M8oLE6KP",
    "outputId": "8c819243-7140-44b0-8930-666c2a9be712"
   },
   "outputs": [
    {
     "data": {
      "text/plain": [
       "array([[13,  1, 26, ...,  0,  0,  0],\n",
       "       [ 1, 20,  4, ...,  5,  1, 12],\n",
       "       [13,  1, 25, ...,  0,  0,  0],\n",
       "       ...,\n",
       "       [ 7, 19,  1, ..., 56,  1, 12],\n",
       "       [13,  1, 54, ...,  0,  0,  0],\n",
       "       [13,  1, 19, ...,  0,  0,  0]])"
      ]
     },
     "execution_count": 46,
     "metadata": {},
     "output_type": "execute_result"
    }
   ],
   "source": [
    "X_train"
   ]
  },
  {
   "cell_type": "code",
   "execution_count": 47,
   "metadata": {
    "id": "aVgAo2kBE8UB"
   },
   "outputs": [],
   "source": [
    "# Creating and applying tokenizers, pad_sequences for output data\n",
    "outputTokenizer = Tokenizer(char_level=True, split=' ',filters='', lower=False)\n",
    "outputTokenizer.fit_on_texts(y_train)\n",
    "Mword2index = outputTokenizer.word_index\n",
    "vocab_size_target = len(Mword2index) + 1\n",
    "\n",
    "y_train = outputTokenizer.texts_to_sequences(y_train)\n",
    "y_train = pad_sequences(y_train, maxlen=average_length_output, padding='post')\n",
    "\n",
    "y_test = outputTokenizer.texts_to_sequences(y_test)\n",
    "y_test = pad_sequences(y_test, maxlen = average_length_output, padding='post')\n"
   ]
  },
  {
   "cell_type": "code",
   "execution_count": 48,
   "metadata": {
    "id": "t2NOQkEBFN7m"
   },
   "outputs": [],
   "source": [
    "# converting to numpy array\n",
    "X_train = np.array(X_train)\n",
    "y_train = np.array(y_train)\n",
    "X_test = np.array(X_test)\n",
    "y_test = np.array(y_test)"
   ]
  },
  {
   "cell_type": "code",
   "execution_count": 49,
   "metadata": {
    "id": "CsAANxmPFQyv"
   },
   "outputs": [],
   "source": [
    "# importing necessery libraries\n",
    "import pandas as pd\n",
    "from sklearn.model_selection import train_test_split\n",
    "import string\n",
    "from string import digits\n",
    "import re\n",
    "from sklearn.utils import shuffle\n",
    "from tensorflow.keras.preprocessing.sequence import pad_sequences\n",
    "from tensorflow.keras.layers import LSTM, Input, Dense,Embedding, Concatenate, TimeDistributed\n",
    "from tensorflow.keras.models import Model,load_model, model_from_json\n",
    "from tensorflow.keras.utils import plot_model\n",
    "from tensorflow.keras.preprocessing.text import one_hot, Tokenizer\n",
    "from tensorflow.keras.callbacks import EarlyStopping\n",
    "from keras import backend as K \n",
    "import pickle as pkl\n",
    "import numpy as np"
   ]
  },
  {
   "cell_type": "code",
   "execution_count": 50,
   "metadata": {
    "id": "6HdZ8SGhFWax"
   },
   "outputs": [],
   "source": [
    "import tensorflow as tf\n",
    "from tensorflow.python.keras import backend as K\n",
    "\n",
    "logger = tf.get_logger()\n",
    "\n",
    "class AttentionLayer(tf.keras.layers.Layer):\n",
    "    \"\"\"\n",
    "    This class implements Bahdanau attention (https://arxiv.org/pdf/1409.0473.pdf).\n",
    "    There are three sets of weights introduced W_a, U_a, and V_a\n",
    "     \"\"\"\n",
    "\n",
    "    def __init__(self, **kwargs):\n",
    "        super(AttentionLayer, self).__init__(**kwargs)\n",
    "\n",
    "    def build(self, input_shape):\n",
    "        assert isinstance(input_shape, list)\n",
    "        # Create a trainable weight variable for this layer.\n",
    "\n",
    "        self.W_a = self.add_weight(name='W_a',\n",
    "                                   shape=tf.TensorShape((input_shape[0][2], input_shape[0][2])),\n",
    "                                   initializer='uniform',\n",
    "                                   trainable=True)\n",
    "        self.U_a = self.add_weight(name='U_a',\n",
    "                                   shape=tf.TensorShape((input_shape[1][2], input_shape[0][2])),\n",
    "                                   initializer='uniform',\n",
    "                                   trainable=True)\n",
    "        self.V_a = self.add_weight(name='V_a',\n",
    "                                   shape=tf.TensorShape((input_shape[0][2], 1)),\n",
    "                                   initializer='uniform',\n",
    "                                   trainable=True)\n",
    "\n",
    "        super(AttentionLayer, self).build(input_shape)  # Be sure to call this at the end\n",
    "\n",
    "    def call(self, inputs):\n",
    "        \"\"\"\n",
    "        inputs: [encoder_output_sequence, decoder_output_sequence]\n",
    "        \"\"\"\n",
    "        assert type(inputs) == list\n",
    "        encoder_out_seq, decoder_out_seq = inputs\n",
    "\n",
    "        logger.debug(f\"encoder_out_seq.shape = {encoder_out_seq.shape}\")\n",
    "        logger.debug(f\"decoder_out_seq.shape = {decoder_out_seq.shape}\")\n",
    "\n",
    "        def energy_step(inputs, states):\n",
    "            \"\"\" Step function for computing energy for a single decoder state\n",
    "            inputs: (batchsize * 1 * de_in_dim)\n",
    "            states: (batchsize * 1 * de_latent_dim)\n",
    "            \"\"\"\n",
    "\n",
    "            logger.debug(\"Running energy computation step\")\n",
    "\n",
    "            if not isinstance(states, (list, tuple)):\n",
    "                raise TypeError(f\"States must be an iterable. Got {states} of type {type(states)}\")\n",
    "\n",
    "            encoder_full_seq = states[-1]\n",
    "\n",
    "            \"\"\" Computing S.Wa where S=[s0, s1, ..., si]\"\"\"\n",
    "            # <= batch size * en_seq_len * latent_dim\n",
    "            W_a_dot_s = K.dot(encoder_full_seq, self.W_a)\n",
    "\n",
    "            \"\"\" Computing hj.Ua \"\"\"\n",
    "            U_a_dot_h = K.expand_dims(K.dot(inputs, self.U_a), 1)  # <= batch_size, 1, latent_dim\n",
    "\n",
    "            logger.debug(f\"U_a_dot_h.shape = {U_a_dot_h.shape}\")\n",
    "\n",
    "            \"\"\" tanh(S.Wa + hj.Ua) \"\"\"\n",
    "            # <= batch_size*en_seq_len, latent_dim\n",
    "            Ws_plus_Uh = K.tanh(W_a_dot_s + U_a_dot_h)\n",
    "\n",
    "            logger.debug(f\"Ws_plus_Uh.shape = {Ws_plus_Uh.shape}\")\n",
    "\n",
    "            \"\"\" softmax(va.tanh(S.Wa + hj.Ua)) \"\"\"\n",
    "            # <= batch_size, en_seq_len\n",
    "            e_i = K.squeeze(K.dot(Ws_plus_Uh, self.V_a), axis=-1)\n",
    "            # <= batch_size, en_seq_len\n",
    "            e_i = K.softmax(e_i)\n",
    "\n",
    "            logger.debug(f\"ei.shape = {e_i.shape}\")\n",
    "\n",
    "            return e_i, [e_i]\n",
    "\n",
    "        def context_step(inputs, states):\n",
    "            \"\"\" Step function for computing ci using ei \"\"\"\n",
    "\n",
    "            logger.debug(\"Running attention vector computation step\")\n",
    "\n",
    "            if not isinstance(states, (list, tuple)):\n",
    "                raise TypeError(f\"States must be an iterable. Got {states} of type {type(states)}\")\n",
    "\n",
    "            encoder_full_seq = states[-1]\n",
    "\n",
    "            # <= batch_size, hidden_size\n",
    "            c_i = K.sum(encoder_full_seq * K.expand_dims(inputs, -1), axis=1)\n",
    "\n",
    "            logger.debug(f\"ci.shape = {c_i.shape}\")\n",
    "\n",
    "            return c_i, [c_i]\n",
    "\n",
    "        # we don't maintain states between steps when computing attention\n",
    "        # attention is stateless, so we're passing a fake state for RNN step function\n",
    "        fake_state_c = K.sum(encoder_out_seq, axis=1)\n",
    "        fake_state_e = K.sum(encoder_out_seq, axis=2)  # <= (batch_size, enc_seq_len, latent_dim\n",
    "\n",
    "        \"\"\" Computing energy outputs \"\"\"\n",
    "        # e_outputs => (batch_size, de_seq_len, en_seq_len)\n",
    "        last_out, e_outputs, _ = K.rnn(\n",
    "            energy_step, decoder_out_seq, [fake_state_e], constants=[encoder_out_seq]\n",
    "        )\n",
    "\n",
    "        \"\"\" Computing context vectors \"\"\"\n",
    "        last_out, c_outputs, _ = K.rnn(\n",
    "            context_step, e_outputs, [fake_state_c], constants=[encoder_out_seq]\n",
    "        )\n",
    "\n",
    "        return c_outputs, e_outputs\n",
    "\n",
    "    def compute_output_shape(self, input_shape):\n",
    "        \"\"\" Outputs produced by the layer \"\"\"\n",
    "        return [\n",
    "            tf.TensorShape((input_shape[1][0], input_shape[1][1], input_shape[1][2])),\n",
    "            tf.TensorShape((input_shape[1][0], input_shape[1][1], input_shape[0][1]))\n",
    "        ]"
   ]
  },
  {
   "cell_type": "code",
   "execution_count": 51,
   "metadata": {
    "colab": {
     "base_uri": "https://localhost:8080/"
    },
    "id": "290qoXOlFZJk",
    "outputId": "3347dbc0-3b64-43ff-924d-4958ab1d162d"
   },
   "outputs": [
    {
     "name": "stdout",
     "output_type": "stream",
     "text": [
      "Model: \"model\"\n",
      "__________________________________________________________________________________________________\n",
      " Layer (type)                   Output Shape         Param #     Connected to                     \n",
      "==================================================================================================\n",
      " input_1 (InputLayer)           [(None, 34)]         0           []                               \n",
      "                                                                                                  \n",
      " input_2 (InputLayer)           [(None, None)]       0           []                               \n",
      "                                                                                                  \n",
      " embedding (Embedding)          (None, 34, 300)      60900       ['input_1[0][0]']                \n",
      "                                                                                                  \n",
      " embedding_1 (Embedding)        (None, None, 300)    48600       ['input_2[0][0]']                \n",
      "                                                                                                  \n",
      " lstm (LSTM)                    [(None, 34, 300),    721200      ['embedding[0][0]']              \n",
      "                                 (None, 300),                                                     \n",
      "                                 (None, 300)]                                                     \n",
      "                                                                                                  \n",
      " lstm_1 (LSTM)                  [(None, None, 300),  721200      ['embedding_1[0][0]',            \n",
      "                                 (None, 300),                     'lstm[0][1]',                   \n",
      "                                 (None, 300)]                     'lstm[0][2]']                   \n",
      "                                                                                                  \n",
      " attention_layer (AttentionLaye  ((None, None, 300),  180300     ['lstm[0][0]',                   \n",
      " r)                              (None, None, 34))                'lstm_1[0][0]']                 \n",
      "                                                                                                  \n",
      " concat_layer (Concatenate)     (None, None, 600)    0           ['lstm_1[0][0]',                 \n",
      "                                                                  'attention_layer[0][0]']        \n",
      "                                                                                                  \n",
      " time_distributed (TimeDistribu  (None, None, 162)   97362       ['concat_layer[0][0]']           \n",
      " ted)                                                                                             \n",
      "                                                                                                  \n",
      "==================================================================================================\n",
      "Total params: 1,829,562\n",
      "Trainable params: 1,829,562\n",
      "Non-trainable params: 0\n",
      "__________________________________________________________________________________________________\n"
     ]
    }
   ],
   "source": [
    "# model architecture\n",
    "K.clear_session() \n",
    "latent_dim = 300 \n",
    "\n",
    "# Encoder \n",
    "encoder_inputs = Input(shape=(average_length_input,)) \n",
    "enc_emb = Embedding(vocab_size_source, latent_dim, trainable=True)(encoder_inputs) \n",
    "\n",
    "#LSTM 1 \n",
    "encoder_lstm1 = LSTM(latent_dim, return_sequences=True,return_state=True) \n",
    "encoder_outputs, state_h, state_c = encoder_lstm1(enc_emb) \n",
    "\n",
    "# #LSTM 2 \n",
    "# encoder_lstm2 = LSTM(latent_dim,return_sequences=True,return_state=True) \n",
    "# encoder_output2, state_h2, state_c2 = encoder_lstm2(encoder_output1) \n",
    "\n",
    "# #LSTM 3 \n",
    "# encoder_lstm3=LSTM(latent_dim, return_state=True, return_sequences=True) \n",
    "# encoder_outputs, state_h, state_c= encoder_lstm3(encoder_output2) \n",
    "\n",
    "# Set up the decoder. \n",
    "decoder_inputs = Input(shape=(None,)) \n",
    "dec_emb_layer = Embedding(vocab_size_target, latent_dim,trainable=True) \n",
    "dec_emb = dec_emb_layer(decoder_inputs) \n",
    "\n",
    "#LSTM using encoder_states as initial state\n",
    "decoder_lstm = LSTM(latent_dim, return_sequences=True, return_state=True) \n",
    "decoder_outputs,decoder_fwd_state, decoder_back_state = decoder_lstm(dec_emb,initial_state=[state_h, state_c]) \n",
    "\n",
    "#Attention Layer\n",
    "attn_layer = AttentionLayer(name='attention_layer') \n",
    "attn_out, attn_states = attn_layer([encoder_outputs, decoder_outputs]) \n",
    "\n",
    "# Concat attention output and decoder LSTM output \n",
    "decoder_concat_input = Concatenate(axis=-1, name='concat_layer')([decoder_outputs, attn_out])\n",
    "\n",
    "#Dense layer\n",
    "decoder_dense = TimeDistributed(Dense(vocab_size_target, activation='softmax')) \n",
    "decoder_outputs = decoder_dense(decoder_concat_input) \n",
    "\n",
    "# Define the model\n",
    "model = Model([encoder_inputs, decoder_inputs], decoder_outputs) \n",
    "model.summary()"
   ]
  },
  {
   "cell_type": "code",
   "execution_count": 52,
   "metadata": {
    "colab": {
     "base_uri": "https://localhost:8080/",
     "height": 856
    },
    "id": "sgSfi4tTFdQl",
    "outputId": "b86fd537-72a4-4cd8-cb57-2a13314031ca"
   },
   "outputs": [
    {
     "name": "stdout",
     "output_type": "stream",
     "text": [
      "You must install pydot (`pip install pydot`) and install graphviz (see instructions at https://graphviz.gitlab.io/download/) for plot_model to work.\n"
     ]
    }
   ],
   "source": [
    "plot_model(model, to_file='train_model.png', show_shapes=False, dpi=96)"
   ]
  },
  {
   "cell_type": "code",
   "execution_count": 53,
   "metadata": {
    "id": "QQiEE26rFhKt"
   },
   "outputs": [],
   "source": [
    "model.compile(optimizer='rmsprop', loss='sparse_categorical_crossentropy', metrics=['accuracy'])"
   ]
  },
  {
   "cell_type": "code",
   "execution_count": 54,
   "metadata": {
    "id": "sYIvcs-pFjlW"
   },
   "outputs": [],
   "source": [
    "es = EarlyStopping(monitor='val_loss', mode='min', verbose=1)"
   ]
  },
  {
   "cell_type": "code",
   "execution_count": 55,
   "metadata": {
    "colab": {
     "base_uri": "https://localhost:8080/"
    },
    "id": "7wg6X0TPFlG6",
    "outputId": "47cce972-32c6-433a-8d25-c085680330bd"
   },
   "outputs": [
    {
     "name": "stdout",
     "output_type": "stream",
     "text": [
      "Epoch 1/3\n",
      "1619/1619 [==============================] - 1948s 1s/step - loss: 0.5680 - accuracy: 0.8455 - val_loss: 0.1377 - val_accuracy: 0.9634\n",
      "Epoch 2/3\n",
      "1619/1619 [==============================] - 2022s 1s/step - loss: 0.1174 - accuracy: 0.9690 - val_loss: 0.1096 - val_accuracy: 0.9718\n",
      "Epoch 3/3\n",
      "1619/1619 [==============================] - 2104s 1s/step - loss: 0.0942 - accuracy: 0.9752 - val_loss: 0.0981 - val_accuracy: 0.9744\n"
     ]
    }
   ],
   "source": [
    "history = model.fit([X_train, y_train[:,:-1]], y_train.reshape(y_train.shape[0], y_train.shape[1],1)[:,1:], \n",
    "                    epochs=3, \n",
    "                    #callbacks=[es],\n",
    "                    batch_size=40,\n",
    "                    validation_data = ([X_test, y_test[:,:-1]], y_test.reshape(y_test.shape[0], y_test.shape[1], 1)[:,1:]))"
   ]
  },
  {
   "cell_type": "code",
   "execution_count": 56,
   "metadata": {
    "colab": {
     "base_uri": "https://localhost:8080/"
    },
    "id": "B5MsO-3pFntj",
    "outputId": "185f4277-d0fa-49a4-ae95-f3a4c5747c12"
   },
   "outputs": [
    {
     "name": "stdout",
     "output_type": "stream",
     "text": [
      "Saved model to disk\n"
     ]
    }
   ],
   "source": [
    "model_json = model.to_json()\n",
    "with open(\"Spell_model.json\", \"w\") as json_file:\n",
    "    json_file.write(model_json)\n",
    "# serialize weights to HDF5\n",
    "model.save_weights(\"Spell_model_weight.h5\")\n",
    "print(\"Saved model to disk\")"
   ]
  },
  {
   "cell_type": "code",
   "execution_count": 57,
   "metadata": {
    "id": "Co0GsOQyJDcf"
   },
   "outputs": [],
   "source": [
    "# loading the model architecture and asigning the weights\n",
    "json_file = open('Spell_model.json', 'r')\n",
    "loaded_model_json = json_file.read()\n",
    "json_file.close()\n",
    "model_loaded = model_from_json(loaded_model_json, custom_objects={'AttentionLayer': AttentionLayer})\n",
    "# load weights into new model\n",
    "model_loaded.load_weights(\"Spell_model_weight.h5\")"
   ]
  },
  {
   "cell_type": "code",
   "execution_count": 58,
   "metadata": {
    "colab": {
     "base_uri": "https://localhost:8080/",
     "height": 265
    },
    "id": "Ojr67cW_JFhv",
    "outputId": "4602a192-68f9-4aa3-ce3e-d7196c666631"
   },
   "outputs": [
    {
     "data": {
      "image/png": "[encoded data removed]",
      "text/plain": [
       "<Figure size 640x480 with 1 Axes>"
      ]
     },
     "metadata": {},
     "output_type": "display_data"
    }
   ],
   "source": [
    "from matplotlib import pyplot \n",
    "pyplot.plot(history.history['accuracy'], label='train') \n",
    "pyplot.plot(history.history['val_accuracy'], label='test') \n",
    "pyplot.legend() \n",
    "pyplot.show()"
   ]
  },
  {
   "cell_type": "code",
   "execution_count": 59,
   "metadata": {
    "colab": {
     "base_uri": "https://localhost:8080/",
     "height": 265
    },
    "id": "X5YTjpTsJIkB",
    "outputId": "f122b54e-0f53-489c-891f-ceb875f0973b"
   },
   "outputs": [
    {
     "data": {
      "image/png": "[encoded data removed]",
      "text/plain": [
       "<Figure size 640x480 with 1 Axes>"
      ]
     },
     "metadata": {},
     "output_type": "display_data"
    }
   ],
   "source": [
    "from matplotlib import pyplot \n",
    "pyplot.plot(history.history['loss'], label='train loss') \n",
    "pyplot.plot(history.history['val_loss'], label='test loss') \n",
    "pyplot.legend() \n",
    "pyplot.show()"
   ]
  },
  {
   "cell_type": "code",
   "execution_count": 60,
   "metadata": {
    "colab": {
     "base_uri": "https://localhost:8080/"
    },
    "id": "JwqFn-XmJiIZ",
    "outputId": "69b9ec04-3a75-4ef3-fbef-f87a70010ccd"
   },
   "outputs": [
    {
     "name": "stdout",
     "output_type": "stream",
     "text": [
      "Model: \"model\"\n",
      "__________________________________________________________________________________________________\n",
      " Layer (type)                   Output Shape         Param #     Connected to                     \n",
      "==================================================================================================\n",
      " input_1 (InputLayer)           [(None, 34)]         0           []                               \n",
      "                                                                                                  \n",
      " input_2 (InputLayer)           [(None, None)]       0           []                               \n",
      "                                                                                                  \n",
      " embedding (Embedding)          (None, 34, 300)      60900       ['input_1[0][0]']                \n",
      "                                                                                                  \n",
      " embedding_1 (Embedding)        (None, None, 300)    48600       ['input_2[0][0]']                \n",
      "                                                                                                  \n",
      " lstm (LSTM)                    [(None, 34, 300),    721200      ['embedding[0][0]']              \n",
      "                                 (None, 300),                                                     \n",
      "                                 (None, 300)]                                                     \n",
      "                                                                                                  \n",
      " lstm_1 (LSTM)                  [(None, None, 300),  721200      ['embedding_1[0][0]',            \n",
      "                                 (None, 300),                     'lstm[0][1]',                   \n",
      "                                 (None, 300)]                     'lstm[0][2]']                   \n",
      "                                                                                                  \n",
      " attention_layer (AttentionLaye  ((None, None, 300),  180300     ['lstm[0][0]',                   \n",
      " r)                              (None, None, 34))                'lstm_1[0][0]']                 \n",
      "                                                                                                  \n",
      " concat_layer (Concatenate)     (None, None, 600)    0           ['lstm_1[0][0]',                 \n",
      "                                                                  'attention_layer[0][0]']        \n",
      "                                                                                                  \n",
      " time_distributed (TimeDistribu  (None, None, 162)   97362       ['concat_layer[0][0]']           \n",
      " ted)                                                                                             \n",
      "                                                                                                  \n",
      "==================================================================================================\n",
      "Total params: 1,829,562\n",
      "Trainable params: 1,829,562\n",
      "Non-trainable params: 0\n",
      "__________________________________________________________________________________________________\n"
     ]
    }
   ],
   "source": [
    "model_loaded.summary()"
   ]
  },
  {
   "cell_type": "code",
   "execution_count": 61,
   "metadata": {
    "id": "CqhR0znVJjxQ"
   },
   "outputs": [],
   "source": [
    "Eindex2word = inputTokenizer.index_word\n",
    "Mindex2word = outputTokenizer.index_word"
   ]
  },
  {
   "cell_type": "code",
   "execution_count": 62,
   "metadata": {
    "colab": {
     "base_uri": "https://localhost:8080/"
    },
    "id": "Wyp-1AqGJlyJ",
    "outputId": "4b281097-ef25-42bc-eb28-7d581306a80b"
   },
   "outputs": [
    {
     "name": "stdout",
     "output_type": "stream",
     "text": [
      "(None, 34, 300)\n",
      "(None, None)\n"
     ]
    }
   ],
   "source": [
    "latent_dim=300\n",
    "# encoder inference\n",
    "encoder_inputs = model_loaded.input[0]  #loading encoder_inputs\n",
    "encoder_outputs, state_h, state_c = model_loaded.layers[4].output #loading encoder_outputs\n",
    "\n",
    "print(encoder_outputs.shape)\n",
    "\n",
    "encoder_model = Model(inputs=encoder_inputs,outputs=[encoder_outputs, state_h, state_c])\n",
    "\n",
    "# decoder inference\n",
    "# Below tensors will hold the states of the previous time step\n",
    "decoder_state_input_h = Input(shape=(latent_dim,))\n",
    "decoder_state_input_c = Input(shape=(latent_dim,))\n",
    "decoder_hidden_state_input = Input(shape=(34,latent_dim))\n",
    "\n",
    "# Get the embeddings of the decoder sequence\n",
    "decoder_inputs = model_loaded.layers[1].output\n",
    "\n",
    "print(decoder_inputs.shape)\n",
    "dec_emb_layer = model_loaded.layers[3]\n",
    "\n",
    "dec_emb2= dec_emb_layer(decoder_inputs)\n",
    "\n",
    "# To predict the next word in the sequence, set the initial states to the states from the previous time step\n",
    "decoder_lstm = model_loaded.layers[5]\n",
    "decoder_outputs2, state_h2, state_c2 = decoder_lstm(dec_emb2, initial_state=[decoder_state_input_h, decoder_state_input_c])\n",
    "\n",
    "#attention inference\n",
    "attn_layer = model_loaded.layers[6]\n",
    "attn_out_inf, attn_states_inf = attn_layer([decoder_hidden_state_input, decoder_outputs2])\n",
    "\n",
    "concate = model_loaded.layers[7]\n",
    "decoder_inf_concat = concate([decoder_outputs2, attn_out_inf])\n",
    "\n",
    "# A dense softmax layer to generate prob dist. over the target vocabulary\n",
    "decoder_dense = model_loaded.layers[8]\n",
    "decoder_outputs2 = decoder_dense(decoder_inf_concat)\n",
    "\n",
    "# Final decoder model\n",
    "decoder_model = Model(\n",
    "[decoder_inputs] + [decoder_hidden_state_input,decoder_state_input_h, decoder_state_input_c],\n",
    "[decoder_outputs2] + [state_h2, state_c2])"
   ]
  },
  {
   "cell_type": "code",
   "execution_count": 63,
   "metadata": {
    "id": "d0_4pEa3KDiV"
   },
   "outputs": [],
   "source": [
    "def decode_sequence(input_seq):\n",
    "    # Encode the input as state vectors.\n",
    "    e_out, e_h, e_c = encoder_model.predict(input_seq, verbose=0)\n",
    "\n",
    "    # Generate empty target sequence of length 1.\n",
    "    target_seq = np.zeros((1,1))\n",
    "\n",
    "    # Chose the 'start' word as the first word of the target sequence\n",
    "    target_seq[0, 0] = Mword2index['<']\n",
    "\n",
    "    stop_condition = False\n",
    "    decoded_sentence = ''\n",
    "    while not stop_condition:\n",
    "        output_tokens, h, c = decoder_model.predict([target_seq] + [e_out, e_h, e_c], verbose=0)\n",
    "\n",
    "        # Sample a token\n",
    "        sampled_token_index = np.argmax(output_tokens[0, -1, :])\n",
    "        if sampled_token_index == 0:\n",
    "          break\n",
    "        else:\n",
    "          sampled_token = Mindex2word[sampled_token_index]\n",
    "\n",
    "          if(sampled_token!='>'):\n",
    "              decoded_sentence += ''+sampled_token\n",
    "\n",
    "              # Exit condition: either hit max length or find stop word.\n",
    "              if (sampled_token == '>' or len(decoded_sentence.split()) >= (26-1)):\n",
    "                  stop_condition = True\n",
    "\n",
    "          # Update the target sequence (of length 1).\n",
    "          target_seq = np.zeros((1,1))\n",
    "          target_seq[0, 0] = sampled_token_index\n",
    "\n",
    "          # Update internal states\n",
    "          e_h, e_c = h, c\n",
    "\n",
    "    return decoded_sentence"
   ]
  },
  {
   "cell_type": "code",
   "execution_count": 64,
   "metadata": {
    "id": "c2MYL0MYKHUs"
   },
   "outputs": [],
   "source": [
    "def seq2summary(input_seq):\n",
    "    newString=''\n",
    "    for i in input_seq:\n",
    "      if((i!=0 and i!=Mword2index['<']) and i!=Mword2index['>']):\n",
    "        newString=newString+Mindex2word[i]+''\n",
    "    return newString\n",
    "\n",
    "def seq2text(input_seq):\n",
    "    newString=''\n",
    "    for i in input_seq:\n",
    "      if(i!=0):\n",
    "        newString=newString+Eindex2word[i]+''\n",
    "    return newString"
   ]
  },
  {
   "cell_type": "code",
   "execution_count": 65,
   "metadata": {
    "id": "GAwW4bhKKMEp"
   },
   "outputs": [],
   "source": [
    "i = 0\n",
    "new_sample = np.array(pad_sequences(inputTokenizer.texts_to_sequences([shuffled_data['original'][i]]), maxlen=average_length_input, padding='post'))"
   ]
  },
  {
   "cell_type": "code",
   "execution_count": 66,
   "metadata": {
    "colab": {
     "base_uri": "https://localhost:8080/"
    },
    "id": "6IWM7bDBKfEJ",
    "outputId": "147c754b-8095-4096-ee2f-3c2528a1a446"
   },
   "outputs": [
    {
     "data": {
      "text/plain": [
       "(1, 34)"
      ]
     },
     "execution_count": 66,
     "metadata": {},
     "output_type": "execute_result"
    }
   ],
   "source": [
    "new_sample.shape"
   ]
  },
  {
   "cell_type": "code",
   "execution_count": 67,
   "metadata": {
    "colab": {
     "base_uri": "https://localhost:8080/"
    },
    "id": "go993t1FKiyq",
    "outputId": "97e0991f-021f-44af-9f4d-33774dd3d21c"
   },
   "outputs": [
    {
     "name": "stdout",
     "output_type": "stream",
     "text": [
      "Actual:  < vesaitlerinden >\n",
      "\n",
      "\n",
      "Predicted summary:  vəsaitlərindən \n"
     ]
    }
   ],
   "source": [
    "i = 15\n",
    "new_sample = np.array(pad_sequences(inputTokenizer.texts_to_sequences([shuffled_data['original'][i]]), maxlen=average_length_input, padding='post'))\n",
    "print(\"Actual: \", shuffled_data['original'][i])\n",
    "print(\"\\n\")\n",
    "print(\"Predicted summary:\", decode_sequence(new_sample.reshape(1,34)))"
   ]
  },
  {
   "cell_type": "code",
   "execution_count": 68,
   "metadata": {
    "id": "pgwyJx0TM4kN"
   },
   "outputs": [],
   "source": [
    "test1 = \"emekdaw ile daniwdim dedi 4 iw gununde arawdiralacaq\"\n",
    "test2 = \"ceta yazdi yuklenmedi indi baxiramki pul cixib.\"\n",
    "test3 = \"Hec bir banka odenisim yoxdur\"\n",
    "test4 = \"her bir yerinde gul cicekle bayram\"\n",
    "olmayan1 = \"en gozel ders bu dersdir\"\n",
    "olmayan2 = \"yaxin adam orani qutarib\"\n",
    "#olmayan1 = \"salam. beynelxalqbankin kartina pul kocurmek isteyrem 200 manatdan artıq kocmur gun erzinde\""
   ]
  },
  {
   "cell_type": "code",
   "execution_count": 70,
   "metadata": {
    "colab": {
     "base_uri": "https://localhost:8080/"
    },
    "id": "3A3fHK6jKt-4",
    "outputId": "8cadf144-ca13-4046-dc5f-c9034c7de301"
   },
   "outputs": [
    {
     "name": "stdout",
     "output_type": "stream",
     "text": [
      "Predicted summary:  yaxın adam oranı qutarıb \n"
     ]
    }
   ],
   "source": [
    "given = olmayan2\n",
    "new_sample = [\"< \" + given +\" >\"]\n",
    "new_sample = np.array(pad_sequences(inputTokenizer.texts_to_sequences(new_sample), maxlen=average_length_input, padding='post'))\n",
    "print(\"Predicted summary:\", decode_sequence(new_sample.reshape(1, 34)))"
   ]
  },
  {
   "cell_type": "code",
   "execution_count": 71,
   "metadata": {},
   "outputs": [
    {
     "name": "stdout",
     "output_type": "stream",
     "text": [
      "Predicted summary:  Heç bir banka ödənişim yoxdur \n"
     ]
    }
   ],
   "source": [
    "given = test3\n",
    "new_sample = [\"< \" + given +\" >\"]\n",
    "new_sample = np.array(pad_sequences(inputTokenizer.texts_to_sequences(new_sample), maxlen=average_length_input, padding='post'))\n",
    "print(\"Predicted summary:\", decode_sequence(new_sample.reshape(1, 34)))"
   ]
  },
  {
   "cell_type": "code",
   "execution_count": 72,
   "metadata": {},
   "outputs": [
    {
     "name": "stdout",
     "output_type": "stream",
     "text": [
      "Predicted summary:  Ən gözəl dərs bu dersdir \n"
     ]
    }
   ],
   "source": [
    "given = olmayan1\n",
    "new_sample = [\"< \" + given +\" >\"]\n",
    "new_sample = np.array(pad_sequences(inputTokenizer.texts_to_sequences(new_sample), maxlen=average_length_input, padding='post'))\n",
    "print(\"Predicted summary:\", decode_sequence(new_sample.reshape(1, 34)))"
   ]
  },
  {
   "cell_type": "code",
   "execution_count": 107,
   "metadata": {},
   "outputs": [
    {
     "data": {
      "text/plain": [
       "array([[1834,    0,    0,    0,    0,    0,    0,    0,    0,    0,    0,\n",
       "           0,    0,    0,    0,    0,    0,    0,    0,    0,    0,    0,\n",
       "           0,    0,    0,    0,    0,    0,    0,    0,    0,    0,    0,\n",
       "           0,    0,    0,    0,    0,    0,    0,    0,    0,    0,    0,\n",
       "           0,    0,    0,    0,    0,    0,    0,    0]])"
      ]
     },
     "execution_count": 107,
     "metadata": {},
     "output_type": "execute_result"
    }
   ],
   "source": [
    "new_sample"
   ]
  },
  {
   "cell_type": "code",
   "execution_count": null,
   "metadata": {},
   "outputs": [],
   "source": []
  }
 ],
 "metadata": {
  "accelerator": "GPU",
  "colab": {
   "collapsed_sections": [],
   "provenance": []
  },
  "gpuClass": "standard",
  "kernelspec": {
   "display_name": "Python 3 (ipykernel)",
   "language": "python",
   "name": "python3"
  },
  "language_info": {
   "codemirror_mode": {
    "name": "ipython",
    "version": 3
   },
   "file_extension": ".py",
   "mimetype": "text/x-python",
   "name": "python",
   "nbconvert_exporter": "python",
   "pygments_lexer": "ipython3",
   "version": "3.9.13"
  }
 },
 "nbformat": 4,
 "nbformat_minor": 4
}
